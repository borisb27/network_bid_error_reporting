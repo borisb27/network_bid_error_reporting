{
 "cells": [
  {
   "cell_type": "code",
   "execution_count": null,
   "id": "2a2a7e24-f258-48f8-b629-8c31325d09d7",
   "metadata": {},
   "outputs": [],
   "source": [
    "import pandas as pd\n",
    "import numpy as np\n",
    "import static_frame as sf\n",
    "from datetime import datetime as dt, timedelta\n",
    "from snowflake.connector import cursor\n",
    "from link import model_query, aggregate_query\n",
    "import xlsxwriter\n",
    "\n",
    "\n",
    "error_items = [['Undefined', 0], ['TimeoutError', 1], ['BadInputError', 2], ['BadServerResponseError', 3], \n",
    "['FailedToRequestBidsError', 4], ['BidAuctionFailed', 5], ['FailedToParseResponse', 7], ['ConnectionError', 8],\n",
    "['Panic', 9], ['PrebidError', 10], ['UnwrapTimeoutError', 17], ['BidPriceBelowFloor', 18], ['UnknownError', 19], \n",
    "['BidRejectedCacheID', 25], ['BidRejectedAdvertiserBlocklist', 27], ['BidRejectedIABCatBlocklist', 28], \n",
    "['BidRejectedAdomainMissing', 29], ['BidRejectedAboveMaxAdDuration', 30], ['BidRejectedAboveMinAdDuration', 31], ['NoM_FSatisfyEndpointMaxBitrate', 37],\n",
    "['NoM_FSatisfyEndpointMinBitrate', 38], ['NoM_FSatisfySiteMinBitrate', 39], ['BidRejectedBrandSafetyRuleBlock', 40],\n",
    "['BidPriceMissing', 44]]\n",
    "error_tuple = (item[0] for item in error_items)\n",
    "error_dictionary = {item[0]: item[1] for item in error_items}\n",
    "error_repeat_dictionary = {item[0]: item[0] for item in error_items}\n",
    "\n",
    "\n",
    "def main():\n",
    "    yesterday = str(dt.strftime(dt.now() - timedelta(1), '%b_%d_%Y')).upper()\n",
    "    two_days_prior = str(dt.strftime(dt.now() - timedelta(2), '%b_%d_%Y')).upper()\n",
    "    print(\"Collecting bid error data...\")\n",
    "    errors_by_bid_code = \"\"\"\n",
    "        SELECT CONCAT(PUBLISHER_ID, BIDDER_ID) AS UNIQUE_ID, PUBLISHER_ID, BIDDER_ID, BIDDER_TYPE, EVENT_BID_ERROR_CODE, SUM(CASE WHEN(CAST(DATE_TIME AS DATE) = DATEADD(day, -2, CAST(GETDATE() as DATE))) THEN EVENT_BID_ERROR ELSE 0 END) AS {}_BID_ERRORS,\n",
    "        SUM(CASE WHEN(CAST(DATE_TIME AS DATE) = DATEADD(day, -1, CAST(GETDATE() AS date))) THEN EVENT_BID_ERROR ELSE 0 END) AS {}_BID_ERRORS\n",
    "        FROM CONSOLE_EVENT_BUYERS_HOURLY_SUMMARY\n",
    "        WHERE EVENT_BID_ERROR_CODE IN (0, 1, 2, 3, 4, 5, 7, 8, 9, 10, 17, 18, 19, 25, 27, 28, 29, 30, 31, 37, 38, 39, 40, 44)\n",
    "        GROUP BY 1, 2, 3, 4, 5\n",
    "    \"\"\".format(two_days_prior,yesterday)\n",
    "    errors_by_bid_code = aggregate_query(errors_by_bid_code)\n",
    "    errors_by_bid_code = pd.DataFrame(errors_by_bid_code)\n",
    "\n",
    "    print(\"Collecting bid request data...\")\n",
    "    bid_requests = \"\"\"\n",
    "        SELECT CONCAT(PUBLISHER_ID, BIDDER_ID) AS UNIQUE_ID,\n",
    "        SUM(CASE WHEN(CAST(DATE_TIME AS DATE) = DATEADD(day, -2, CAST(GETDATE() as DATE))) THEN EVENT_BID_REQUEST ELSE 0 END) AS {}_BID_REQUESTS,\n",
    "        SUM(CASE WHEN(CAST(DATE_TIME AS DATE) = DATEADD(day, -1, CAST(GETDATE() as DATE))) THEN EVENT_BID_REQUEST ELSE 0 END) AS {}_BID_REQUESTS\n",
    "        FROM CONSOLE_EVENT_BUYERS_HOURLY_SUMMARY\n",
    "        GROUP BY 1\n",
    "    \"\"\".format(two_days_prior,yesterday)\n",
    "    bid_requests = aggregate_query(bid_requests)\n",
    "    bid_requests = pd.DataFrame(bid_requests)\n",
    "\n",
    "    errors_by_bid_code = errors_by_bid_code.merge(bid_requests, on='UNIQUE_ID', how = 'left')\n",
    "\n",
    "    print('Confirming publishers names...')\n",
    "    publishers = \"\"\"\n",
    "        SELECT id as PUBLISHER_ID, name as PUBLISHER_NAME\n",
    "        FROM publishers\n",
    "    \"\"\"\n",
    "    publishers = model_query(publishers)\n",
    "    publishers = pd.DataFrame(publishers)\n",
    "\n",
    "    print(\"Matching publisher names to error codes...\")\n",
    "    errors_by_bid_code = errors_by_bid_code.merge(publishers, on = 'PUBLISHER_ID', how = 'left')\n",
    "\n",
    "    print(\"Organizing DataFrames...\")\n",
    "    error_list = [error[0] for error in error_items]\n",
    "    error_loop = 0\n",
    "    with pd.ExcelWriter(\"Threshold_Bid_Error_Analysis_{}-{}.xlsx\".format(two_days_prior,yesterday)) as writer:\n",
    "        for error in error_list:\n",
    "                error_dictionary[error] = errors_by_bid_code[errors_by_bid_code['EVENT_BID_ERROR_CODE'] == int(error_dictionary.get(error))]\n",
    "                error_dictionary[error]['DAY_OVER_DAY_BID_ERROR_DIFFERENCE'] = error_dictionary[error]['{}_BID_ERRORS'.format(yesterday)] - error_dictionary[error]['{}_BID_ERRORS'.format(two_days_prior)]\n",
    "                error_grouping_by_id = error_dictionary[error][['PUBLISHER_ID', '{}_BID_ERRORS'.format(yesterday)]]\n",
    "                error_grouping_by_id = error_grouping_by_id.groupby(['PUBLISHER_ID']).sum()\n",
    "                error_grouping_by_id.rename(columns={'{}_BID_ERRORS'.format(yesterday):'YESTERDAY\\'S_ERRORS'}, inplace=True)\n",
    "                error_dictionary[error] = error_dictionary[error].merge(error_grouping_by_id, on = 'PUBLISHER_ID', how = 'left')\n",
    "                (x, y) = (error_dictionary[error]['YESTERDAY\\'S_ERRORS'], error_dictionary[error]['{}_BID_ERRORS'.format(yesterday)])\n",
    "                share = []\n",
    "                j = 0\n",
    "                for i in x:\n",
    "                    if i == 0: \n",
    "                        share.append(0)\n",
    "                    else:\n",
    "                        share.append((float(y[j]) / float(x[j])) * 100)\n",
    "                    j+=1\n",
    "                error_dictionary[error].insert(2, 'ERROR_SHARE_ACROSS_PUB (in percent)', share)\t\n",
    "                print('Calculating total 1-day prior (yesterday\\'s) bid error percent...')\n",
    "                (x, y) = (error_dictionary[error]['{}_BID_REQUESTS'.format(yesterday)], error_dictionary[error]['{}_BID_ERRORS'.format(yesterday)])\n",
    "                share = []\n",
    "                k = 0\n",
    "                for i in x:\n",
    "                    if i == 0: \n",
    "                        share.append(0)\n",
    "                    else:\n",
    "                        share.append((float(y[k]) / float(x[k])) * 100)\n",
    "                    k+=1               \n",
    "                error_dictionary[error].insert(2, '{}_BID_ERROR_PERCENT'.format(yesterday), share)\n",
    "                print('Calculating total 2-day prior bid requests and bid errors...')            \n",
    "                (x, y) = (error_dictionary[error]['{}_BID_REQUESTS'.format(two_days_prior)], error_dictionary[error]['{}_BID_ERRORS'.format(two_days_prior)])\n",
    "                share = []\n",
    "                l = 0\n",
    "                for i in x:\n",
    "                    if i == 0: \n",
    "                        share.append(0)\n",
    "                    else:\n",
    "                        share.append((float(y[l]) / float(x[l])) * 100)\n",
    "                    l+=1\n",
    "                print('Calculating total 2-day prior bid error percent...')                            \n",
    "                error_dictionary[error].insert(2, '{}_BID_ERROR_PERCENT'.format(two_days_prior), share)\n",
    "                error_dictionary[error]['+/- CHANGE IN BID ERROR %'] = error_dictionary[error]['{}_BID_ERROR_PERCENT'.format(yesterday)] - error_dictionary[error]['{}_BID_ERROR_PERCENT'.format(two_days_prior)]\n",
    "                error_dictionary[error]['ERROR_SHARE_ACROSS_PUB (in percent)'] = round(error_dictionary[error]['ERROR_SHARE_ACROSS_PUB (in percent)'], 2)\n",
    "                print('Calculating percent change in bid error percent...')                        \n",
    "                error_dictionary[error].sort_values(by = '+/- CHANGE IN BID ERROR %', ascending = False, inplace=True)\n",
    "                print('Sorting DataFrame...')            \n",
    "                error_dictionary[error] = error_dictionary[error][['EVENT_BID_ERROR_CODE', 'PUBLISHER_ID', 'PUBLISHER_NAME', 'BIDDER_ID', 'BIDDER_TYPE', '{}_BID_ERRORS'.format(two_days_prior),  \n",
    "                '{}_BID_REQUESTS'.format(two_days_prior), '{}_BID_ERROR_PERCENT'.format(two_days_prior), '{}_BID_ERRORS'.format(yesterday), '{}_BID_REQUESTS'.format(yesterday),  '{}_BID_ERROR_PERCENT'.format(yesterday), 'DAY_OVER_DAY_BID_ERROR_DIFFERENCE', '+/- CHANGE IN BID ERROR %', 'ERROR_SHARE_ACROSS_PUB (in percent)']]\n",
    "                print('Removing empty DataFrames and rows...')\n",
    "                if error_dictionary[error]['{}_BID_ERRORS'.format(two_days_prior)].sum() > 0 or error_dictionary[error]['{}_BID_ERRORS'.format(yesterday)].sum() > 0:\n",
    "                    error_dictionary[error] = error_dictionary[error][((error_dictionary[error]['{}_BID_REQUESTS'.format(two_days_prior)] >= 500000) | (error_dictionary[error]['{}_BID_REQUESTS'.format(yesterday)] >= 500000)) & ((error_dictionary[error]['{}_BID_ERROR_PERCENT'.format(two_days_prior)] >= 10) | (error_dictionary[error]['{}_BID_ERROR_PERCENT'.format(yesterday)] >= 10))]\n",
    "                    if len(error_dictionary[error]) > 0:\n",
    "                        error_dictionary[error].to_excel(writer,sheet_name=str(error_items[error_loop][0]))\n",
    "                error_loop += 1\n",
    "if __name__ == '__main__':\n",
    "        main()"
   ]
  },
  {
   "cell_type": "code",
   "execution_count": 1,
   "id": "b45ad44a-37fc-4b29-9098-6f014c2df7f4",
   "metadata": {},
   "outputs": [
    {
     "name": "stdout",
     "output_type": "stream",
     "text": [
      "git version 2.30.1 (Apple Git-130)\n"
     ]
    }
   ],
   "source": [
    "!git --version"
   ]
  },
  {
   "cell_type": "code",
   "execution_count": 2,
   "id": "f2b9b995-8710-4a25-ae8f-f1dfe532e66b",
   "metadata": {},
   "outputs": [
    {
     "name": "stdout",
     "output_type": "stream",
     "text": [
      "\u001b[33mhint: Using 'master' as the name for the initial branch. This default branch name\u001b[m\n",
      "\u001b[33mhint: is subject to change. To configure the initial branch name to use in all\u001b[m\n",
      "\u001b[33mhint: of your new repositories, which will suppress this warning, call:\u001b[m\n",
      "\u001b[33mhint: \u001b[m\n",
      "\u001b[33mhint: \tgit config --global init.defaultBranch <name>\u001b[m\n",
      "\u001b[33mhint: \u001b[m\n",
      "\u001b[33mhint: Names commonly chosen instead of 'master' are 'main', 'trunk' and\u001b[m\n",
      "\u001b[33mhint: 'development'. The just-created branch can be renamed via this command:\u001b[m\n",
      "\u001b[33mhint: \u001b[m\n",
      "\u001b[33mhint: \tgit branch -m <name>\u001b[m\n",
      "Initialized empty Git repository in /Users/boris-brown/Documents/GitHub/publica/network_bid_errors/.git/\n"
     ]
    }
   ],
   "source": [
    "!git init"
   ]
  },
  {
   "cell_type": "code",
   "execution_count": 4,
   "id": "4d892f70-967a-444d-a594-f2ced97021bd",
   "metadata": {},
   "outputs": [],
   "source": [
    "!git add \"../../../GitHub/publica/\""
   ]
  },
  {
   "cell_type": "code",
   "execution_count": null,
   "id": "4b638a6c-ebc9-4e8d-82a3-f0d99a924c6e",
   "metadata": {},
   "outputs": [],
   "source": []
  }
 ],
 "metadata": {
  "kernelspec": {
   "display_name": "Python 3",
   "language": "python",
   "name": "python3"
  },
  "language_info": {
   "codemirror_mode": {
    "name": "ipython",
    "version": 3
   },
   "file_extension": ".py",
   "mimetype": "text/x-python",
   "name": "python",
   "nbconvert_exporter": "python",
   "pygments_lexer": "ipython3",
   "version": "3.8.8"
  }
 },
 "nbformat": 4,
 "nbformat_minor": 5
}
